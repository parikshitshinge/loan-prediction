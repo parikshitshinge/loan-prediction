{
 "cells": [
  {
   "cell_type": "markdown",
   "id": "b4f6e3b5",
   "metadata": {},
   "source": [
    "After doing EDA on train data, we will work with below features to build our model:<br><br>\n",
    "<b>Categorical Features:</b><br>\n",
    "    Marital Status,<br>\n",
    "    Number of Dependents,<br>\n",
    "    Education (Whether Graduate or Not),<br>\n",
    "    Credit History Meet Flag,<br>\n",
    "    Property Area,<br>\n",
    "    Loan Amount Term (bucket of 5 years)<br><br>\n",
    "   \n",
    "<b>Numerical Features:</b><br>\n",
    "    Applicant Income<br>\n",
    "    Loan Amount<br>"
   ]
  },
  {
   "cell_type": "code",
   "execution_count": 90,
   "id": "8e971531",
   "metadata": {},
   "outputs": [],
   "source": [
    "import pandas as pd\n",
    "from sklearn.model_selection import train_test_split\n",
    "from sklearn.feature_extraction.text import CountVectorizer\n",
    "from sklearn.preprocessing import MinMaxScaler\n",
    "from scipy.sparse import hstack"
   ]
  },
  {
   "cell_type": "markdown",
   "id": "82e9bcc2",
   "metadata": {},
   "source": [
    "First, we will load the train data and split it into train & test for model validation."
   ]
  },
  {
   "cell_type": "code",
   "execution_count": 79,
   "id": "0b1f253b",
   "metadata": {},
   "outputs": [],
   "source": [
    "data = pd.read_csv(\"preprocessed_trained_data.csv\")"
   ]
  },
  {
   "cell_type": "code",
   "execution_count": 80,
   "id": "6be7bc49",
   "metadata": {},
   "outputs": [],
   "source": [
    "data = data.drop(['Loan_ID', 'Gender', 'Self_Employed', 'CoapplicantIncome'], axis=1)"
   ]
  },
  {
   "cell_type": "code",
   "execution_count": 81,
   "id": "b5404e41",
   "metadata": {},
   "outputs": [],
   "source": [
    "# Some more preprocessing\n",
    "data['Loan_Amount_Term'] = data['Loan_Amount_Term'].astype(str)\n",
    "data['Loan_Amount_Term'] = data['Loan_Amount_Term'].map('d{}'.format)\n",
    "data['Dependents'] = data['Dependents'].astype(str)\n",
    "data['Dependents'] = data['Dependents'].map('d{}'.format)\n",
    "data['Credit_History'] = data['Credit_History'].astype(str)\n",
    "data['Credit_History'] = data['Credit_History'].map('d{}'.format)"
   ]
  },
  {
   "cell_type": "code",
   "execution_count": 82,
   "id": "e2c6a3a6",
   "metadata": {},
   "outputs": [],
   "source": [
    "X = data.drop('Loan_Status', axis=1)\n",
    "X.head()\n",
    "y = data['Loan_Status'].values"
   ]
  },
  {
   "cell_type": "code",
   "execution_count": 83,
   "id": "759678ff",
   "metadata": {},
   "outputs": [
    {
     "name": "stdout",
     "output_type": "stream",
     "text": [
      "*** Shape of datasets ***\n",
      "X_train:  (429, 8)\n",
      "y_train:  (429,)\n",
      "X_test:  (185, 8)\n",
      "y_test:  (185,)\n"
     ]
    }
   ],
   "source": [
    "X_train, X_test, y_train, y_test = train_test_split(X, y, test_size=0.3, stratify=y)\n",
    "print(\"*** Shape of datasets ***\")\n",
    "print(\"X_train: \",X_train.shape)\n",
    "print(\"y_train: \",y_train.shape)\n",
    "print(\"X_test: \",X_test.shape)\n",
    "print(\"y_test: \",y_test.shape)\n"
   ]
  },
  {
   "cell_type": "markdown",
   "id": "6501e543",
   "metadata": {},
   "source": [
    "Lets prepare data for model input"
   ]
  },
  {
   "cell_type": "markdown",
   "id": "63650900",
   "metadata": {},
   "source": [
    "### Categorical features\n",
    "Marital Status,<br>\n",
    "Number of Dependents,<br>\n",
    "Education (Whether Graduate or Not),<br>\n",
    "Credit History Meet Flag,<br>\n",
    "Property Area,<br>\n",
    "Loan Amount Term (bucket of 5 years)<br>"
   ]
  },
  {
   "cell_type": "code",
   "execution_count": 87,
   "id": "e6bea210",
   "metadata": {},
   "outputs": [
    {
     "name": "stdout",
     "output_type": "stream",
     "text": [
      "\n",
      "After One Hot Encoding of Married:\n",
      "\n",
      "X_train shape:  (429, 2)\n",
      "X_test shape:  (185, 2)\n",
      "Features:  ['no' 'yes']\n",
      "\n",
      "After One Hot Encoding of Dependents:\n",
      "\n",
      "X_train shape:  (429, 4)\n",
      "X_test shape:  (185, 4)\n",
      "Features:  ['d0' 'd1' 'd2' 'd3']\n",
      "\n",
      "After One Hot Encoding of Education:\n",
      "\n",
      "X_train shape:  (429, 2)\n",
      "X_test shape:  (185, 2)\n",
      "Features:  ['graduate' 'not']\n",
      "\n",
      "After One Hot Encoding of Credit History:\n",
      "\n",
      "X_train shape:  (429, 2)\n",
      "X_test shape:  (185, 2)\n",
      "Features:  ['d0' 'd1']\n",
      "\n",
      "After One Hot Encoding of Property Area:\n",
      "\n",
      "X_train shape:  (429, 3)\n",
      "X_test shape:  (185, 3)\n",
      "Features:  ['rural' 'semiurban' 'urban']\n",
      "\n",
      "After One Hot Encoding of loan Amount term:\n",
      "\n",
      "X_train shape:  (429, 9)\n",
      "X_test shape:  (185, 9)\n",
      "Features:  ['d120' 'd180' 'd240' 'd300' 'd36' 'd360' 'd480' 'd60' 'd84']\n"
     ]
    }
   ],
   "source": [
    "vectorizer = CountVectorizer()\n",
    "\n",
    "vectorizer.fit(X_train['Married'].values)\n",
    "X_train_married_ohe = vectorizer.transform(X_train['Married'].values)\n",
    "X_test_married_ohe = vectorizer.transform(X_test['Married'].values)\n",
    "print(\"\\nAfter One Hot Encoding of Married:\\n\")\n",
    "print(\"X_train shape: \",X_train_married_ohe.shape)\n",
    "print(\"X_test shape: \",X_test_married_ohe.shape)\n",
    "print(\"Features: \", vectorizer.get_feature_names_out())\n",
    "\n",
    "vectorizer.fit(X_train['Dependents'].values)\n",
    "X_train_dependents_ohe = vectorizer.transform(X_train['Dependents'].values)\n",
    "X_test_dependents_ohe = vectorizer.transform(X_test['Dependents'].values)\n",
    "print(\"\\nAfter One Hot Encoding of Dependents:\\n\")\n",
    "print(\"X_train shape: \",X_train_dependents_ohe.shape)\n",
    "print(\"X_test shape: \",X_test_dependents_ohe.shape)\n",
    "print(\"Features: \", vectorizer.get_feature_names_out())\n",
    "\n",
    "vectorizer.fit(X_train['Education'].values)\n",
    "X_train_education_ohe = vectorizer.transform(X_train['Education'].values)\n",
    "X_test_education_ohe = vectorizer.transform(X_test['Education'].values)\n",
    "print(\"\\nAfter One Hot Encoding of Education:\\n\")\n",
    "print(\"X_train shape: \",X_train_education_ohe.shape)\n",
    "print(\"X_test shape: \",X_test_education_ohe.shape)\n",
    "print(\"Features: \", vectorizer.get_feature_names_out())\n",
    "\n",
    "vectorizer.fit(X_train['Credit_History'].values)\n",
    "X_train_credithistory_ohe = vectorizer.transform(X_train['Credit_History'].values)\n",
    "X_test_credithistory_ohe = vectorizer.transform(X_test['Credit_History'].values)\n",
    "print(\"\\nAfter One Hot Encoding of Credit History:\\n\")\n",
    "print(\"X_train shape: \",X_train_credithistory_ohe.shape)\n",
    "print(\"X_test shape: \",X_test_credithistory_ohe.shape)\n",
    "print(\"Features: \", vectorizer.get_feature_names_out())\n",
    "\n",
    "vectorizer.fit(X_train['Property_Area'].values)\n",
    "X_train_propertyarea_ohe = vectorizer.transform(X_train['Property_Area'].values)\n",
    "X_test_propertyarea_ohe = vectorizer.transform(X_test['Property_Area'].values)\n",
    "print(\"\\nAfter One Hot Encoding of Property Area:\\n\")\n",
    "print(\"X_train shape: \",X_train_propertyarea_ohe.shape)\n",
    "print(\"X_test shape: \",X_test_propertyarea_ohe.shape)\n",
    "print(\"Features: \", vectorizer.get_feature_names_out())\n",
    "\n",
    "vectorizer.fit(X_train['Loan_Amount_Term'].values)\n",
    "X_train_loanterm_ohe = vectorizer.transform(X_train['Loan_Amount_Term'].values)\n",
    "X_test_loanterm_ohe = vectorizer.transform(X_test['Loan_Amount_Term'].values)\n",
    "print(\"\\nAfter One Hot Encoding of loan Amount term:\\n\")\n",
    "print(\"X_train shape: \",X_train_loanterm_ohe.shape)\n",
    "print(\"X_test shape: \",X_test_loanterm_ohe.shape)\n",
    "print(\"Features: \", vectorizer.get_feature_names_out())"
   ]
  },
  {
   "cell_type": "markdown",
   "id": "dedf085e",
   "metadata": {},
   "source": [
    "#### Numerical Features\n",
    "\n",
    "Applicant Income<br>\n",
    "Loan Amount"
   ]
  },
  {
   "cell_type": "code",
   "execution_count": 89,
   "id": "8df2fa8f",
   "metadata": {},
   "outputs": [
    {
     "name": "stdout",
     "output_type": "stream",
     "text": [
      "\n",
      "After normalizing Applicant Income:\n",
      "\n",
      "X_train shape:  (429, 1)\n",
      "X_test shape:  (185, 1)\n",
      "\n",
      "After normalizing Loan Amount:\n",
      "\n",
      "X_train shape:  (429, 1)\n",
      "X_test shape:  (185, 1)\n"
     ]
    }
   ],
   "source": [
    "scaler = MinMaxScaler()\n",
    "\n",
    "scaler.fit(X_train['ApplicantIncome'].values.reshape(-1,1))\n",
    "X_train_income_norm = scaler.transform(X_train['ApplicantIncome'].values.reshape(-1,1))\n",
    "X_test_income_norm = scaler.transform(X_test['ApplicantIncome'].values.reshape(-1,1))\n",
    "print(\"\\nAfter normalizing Applicant Income:\\n\")\n",
    "print(\"X_train shape: \",X_train_income_norm.shape)\n",
    "print(\"X_test shape: \",X_test_income_norm.shape)\n",
    "\n",
    "\n",
    "scaler.fit(X_train['LoanAmount'].values.reshape(-1,1))\n",
    "X_train_loanamount_norm = scaler.transform(X_train['LoanAmount'].values.reshape(-1,1))\n",
    "X_test_loanamount_norm = scaler.transform(X_test['LoanAmount'].values.reshape(-1,1))\n",
    "print(\"\\nAfter normalizing Loan Amount:\\n\")\n",
    "print(\"X_train shape: \",X_train_loanamount_norm.shape)\n",
    "print(\"X_test shape: \",X_test_loanamount_norm.shape)"
   ]
  },
  {
   "cell_type": "markdown",
   "id": "355bdfcb",
   "metadata": {},
   "source": [
    "### Stack all features"
   ]
  },
  {
   "cell_type": "code",
   "execution_count": 92,
   "id": "feb5f3ac",
   "metadata": {},
   "outputs": [],
   "source": [
    "X_train_stacked = hstack((X_train_married_ohe, X_train_dependents_ohe, X_train_education_ohe, X_train_credithistory_ohe, X_train_propertyarea_ohe, X_train_loanterm_ohe, X_train_income_norm,X_train_loanamount_norm)).tocsr()\n",
    "X_test_stacked = hstack((X_test_married_ohe, X_test_dependents_ohe, X_test_education_ohe, X_test_credithistory_ohe, X_test_propertyarea_ohe, X_test_loanterm_ohe, X_test_income_norm,X_test_loanamount_norm)).tocsr()"
   ]
  },
  {
   "cell_type": "markdown",
   "id": "897117c0",
   "metadata": {},
   "source": [
    "### Apply Decision Tree"
   ]
  },
  {
   "cell_type": "code",
   "execution_count": 94,
   "id": "a533d25c",
   "metadata": {},
   "outputs": [],
   "source": [
    "from sklearn.tree import DecisionTreeClassifier\n",
    "from sklearn.metrics import accuracy_score\n",
    "from sklearn.metrics import classification_report"
   ]
  },
  {
   "cell_type": "code",
   "execution_count": 97,
   "id": "56aceca5",
   "metadata": {},
   "outputs": [
    {
     "name": "stdout",
     "output_type": "stream",
     "text": [
      "              precision    recall  f1-score   support\n",
      "\n",
      "           N       0.50      0.45      0.47        58\n",
      "           Y       0.76      0.80      0.78       127\n",
      "\n",
      "    accuracy                           0.69       185\n",
      "   macro avg       0.63      0.62      0.62       185\n",
      "weighted avg       0.68      0.69      0.68       185\n",
      "\n",
      "68.65% Accurate\n"
     ]
    }
   ],
   "source": [
    "DT = DecisionTreeClassifier()\n",
    "DT.fit(X_train_stacked, y_train)\n",
    "y_predict = DT.predict(X_test_stacked)\n",
    "\n",
    "print(classification_report(y_test, y_predict))\n",
    "DT_SC = accuracy_score(y_predict,y_test)\n",
    "print(f\"{round(DT_SC*100,2)}% Accurate\")"
   ]
  },
  {
   "cell_type": "code",
   "execution_count": null,
   "id": "8485ebb1",
   "metadata": {},
   "outputs": [],
   "source": []
  }
 ],
 "metadata": {
  "kernelspec": {
   "display_name": "Python [conda env:ds] *",
   "language": "python",
   "name": "conda-env-ds-py"
  },
  "language_info": {
   "codemirror_mode": {
    "name": "ipython",
    "version": 3
   },
   "file_extension": ".py",
   "mimetype": "text/x-python",
   "name": "python",
   "nbconvert_exporter": "python",
   "pygments_lexer": "ipython3",
   "version": "3.9.6"
  }
 },
 "nbformat": 4,
 "nbformat_minor": 5
}
